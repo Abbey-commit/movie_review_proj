{
 "cells": [
  {
   "cell_type": "code",
   "execution_count": 43,
   "metadata": {},
   "outputs": [],
   "source": [
    "import pandas as pd\n",
    "import numpy as np\n",
    "from sklearn.naive_bayes import BernoulliNB\n",
    "from sklearn.feature_extraction.text import CountVectorizer\n",
    "from sklearn.model_selection import train_test_split\n",
    "from sklearn.feature_extraction.text import TfidfVectorizer, TfidfTransformer\n",
    "from sklearn.model_selection import train_test_split\n",
    "from numpy import mean\n",
    "from numpy import std\n",
    "from sklearn.datasets import make_classification\n",
    "from sklearn.model_selection import KFold\n",
    "from sklearn.model_selection import StratifiedKFold\n",
    "from sklearn.model_selection import cross_val_score\n",
    "from sklearn.pipeline import Pipeline\n",
    "from nltk.corpus import stopwords"
   ]
  },
  {
   "cell_type": "code",
   "execution_count": 44,
   "metadata": {},
   "outputs": [
    {
     "name": "stdout",
     "output_type": "stream",
     "text": [
      "<class 'pandas.core.frame.DataFrame'>\n",
      "RangeIndex: 748 entries, 0 to 747\n",
      "Data columns (total 2 columns):\n",
      " #   Column  Non-Null Count  Dtype \n",
      "---  ------  --------------  ----- \n",
      " 0   review  748 non-null    object\n",
      " 1   rating  748 non-null    int64 \n",
      "dtypes: int64(1), object(1)\n",
      "memory usage: 11.8+ KB\n"
     ]
    },
    {
     "data": {
      "text/html": [
       "<div>\n",
       "<style scoped>\n",
       "    .dataframe tbody tr th:only-of-type {\n",
       "        vertical-align: middle;\n",
       "    }\n",
       "\n",
       "    .dataframe tbody tr th {\n",
       "        vertical-align: top;\n",
       "    }\n",
       "\n",
       "    .dataframe thead th {\n",
       "        text-align: right;\n",
       "    }\n",
       "</style>\n",
       "<table border=\"1\" class=\"dataframe\">\n",
       "  <thead>\n",
       "    <tr style=\"text-align: right;\">\n",
       "      <th></th>\n",
       "      <th>review</th>\n",
       "      <th>rating</th>\n",
       "    </tr>\n",
       "  </thead>\n",
       "  <tbody>\n",
       "    <tr>\n",
       "      <th>0</th>\n",
       "      <td>A very, very, very slow-moving, aimless movie ...</td>\n",
       "      <td>0</td>\n",
       "    </tr>\n",
       "    <tr>\n",
       "      <th>1</th>\n",
       "      <td>Not sure who was more lost - the flat characte...</td>\n",
       "      <td>0</td>\n",
       "    </tr>\n",
       "    <tr>\n",
       "      <th>2</th>\n",
       "      <td>Attempting artiness with black &amp; white and cle...</td>\n",
       "      <td>0</td>\n",
       "    </tr>\n",
       "    <tr>\n",
       "      <th>3</th>\n",
       "      <td>Very little music or anything to speak of.</td>\n",
       "      <td>0</td>\n",
       "    </tr>\n",
       "    <tr>\n",
       "      <th>4</th>\n",
       "      <td>The best scene in the movie was when Gerardo i...</td>\n",
       "      <td>1</td>\n",
       "    </tr>\n",
       "  </tbody>\n",
       "</table>\n",
       "</div>"
      ],
      "text/plain": [
       "                                              review  rating\n",
       "0  A very, very, very slow-moving, aimless movie ...       0\n",
       "1  Not sure who was more lost - the flat characte...       0\n",
       "2  Attempting artiness with black & white and cle...       0\n",
       "3       Very little music or anything to speak of.         0\n",
       "4  The best scene in the movie was when Gerardo i...       1"
      ]
     },
     "execution_count": 44,
     "metadata": {},
     "output_type": "execute_result"
    }
   ],
   "source": [
    "dt = pd.read_csv('imdb_labelled.txt', delimiter = '\\t', names=['review', 'rating'])\n",
    "dt.info()\n",
    "dt.head()"
   ]
  },
  {
   "cell_type": "code",
   "execution_count": 45,
   "metadata": {},
   "outputs": [
    {
     "data": {
      "text/html": [
       "<div>\n",
       "<style scoped>\n",
       "    .dataframe tbody tr th:only-of-type {\n",
       "        vertical-align: middle;\n",
       "    }\n",
       "\n",
       "    .dataframe tbody tr th {\n",
       "        vertical-align: top;\n",
       "    }\n",
       "\n",
       "    .dataframe thead th {\n",
       "        text-align: right;\n",
       "    }\n",
       "</style>\n",
       "<table border=\"1\" class=\"dataframe\">\n",
       "  <thead>\n",
       "    <tr style=\"text-align: right;\">\n",
       "      <th></th>\n",
       "      <th>review</th>\n",
       "      <th>rating</th>\n",
       "      <th>labels</th>\n",
       "    </tr>\n",
       "  </thead>\n",
       "  <tbody>\n",
       "    <tr>\n",
       "      <th>0</th>\n",
       "      <td>A very, very, very slow-moving, aimless movie ...</td>\n",
       "      <td>0</td>\n",
       "      <td>Negative</td>\n",
       "    </tr>\n",
       "    <tr>\n",
       "      <th>1</th>\n",
       "      <td>Not sure who was more lost - the flat characte...</td>\n",
       "      <td>0</td>\n",
       "      <td>Negative</td>\n",
       "    </tr>\n",
       "    <tr>\n",
       "      <th>2</th>\n",
       "      <td>Attempting artiness with black &amp; white and cle...</td>\n",
       "      <td>0</td>\n",
       "      <td>Negative</td>\n",
       "    </tr>\n",
       "    <tr>\n",
       "      <th>3</th>\n",
       "      <td>Very little music or anything to speak of.</td>\n",
       "      <td>0</td>\n",
       "      <td>Negative</td>\n",
       "    </tr>\n",
       "    <tr>\n",
       "      <th>4</th>\n",
       "      <td>The best scene in the movie was when Gerardo i...</td>\n",
       "      <td>1</td>\n",
       "      <td>Positive</td>\n",
       "    </tr>\n",
       "  </tbody>\n",
       "</table>\n",
       "</div>"
      ],
      "text/plain": [
       "                                              review  rating    labels\n",
       "0  A very, very, very slow-moving, aimless movie ...       0  Negative\n",
       "1  Not sure who was more lost - the flat characte...       0  Negative\n",
       "2  Attempting artiness with black & white and cle...       0  Negative\n",
       "3       Very little music or anything to speak of.         0  Negative\n",
       "4  The best scene in the movie was when Gerardo i...       1  Positive"
      ]
     },
     "execution_count": 45,
     "metadata": {},
     "output_type": "execute_result"
    }
   ],
   "source": [
    "dt['labels'] = dt[\"rating\"].apply(lambda x: \"Positive\" if x else \"Negative\")\n",
    "dt.head() "
   ]
  },
  {
   "cell_type": "code",
   "execution_count": 46,
   "metadata": {},
   "outputs": [
    {
     "data": {
      "text/html": [
       "<div>\n",
       "<style scoped>\n",
       "    .dataframe tbody tr th:only-of-type {\n",
       "        vertical-align: middle;\n",
       "    }\n",
       "\n",
       "    .dataframe tbody tr th {\n",
       "        vertical-align: top;\n",
       "    }\n",
       "\n",
       "    .dataframe thead th {\n",
       "        text-align: right;\n",
       "    }\n",
       "</style>\n",
       "<table border=\"1\" class=\"dataframe\">\n",
       "  <thead>\n",
       "    <tr style=\"text-align: right;\">\n",
       "      <th></th>\n",
       "      <th>review</th>\n",
       "      <th>rating</th>\n",
       "      <th>labels</th>\n",
       "      <th>length</th>\n",
       "    </tr>\n",
       "  </thead>\n",
       "  <tbody>\n",
       "    <tr>\n",
       "      <th>0</th>\n",
       "      <td>A very, very, very slow-moving, aimless movie ...</td>\n",
       "      <td>0</td>\n",
       "      <td>Negative</td>\n",
       "      <td>15</td>\n",
       "    </tr>\n",
       "    <tr>\n",
       "      <th>1</th>\n",
       "      <td>Not sure who was more lost - the flat characte...</td>\n",
       "      <td>0</td>\n",
       "      <td>Negative</td>\n",
       "      <td>21</td>\n",
       "    </tr>\n",
       "    <tr>\n",
       "      <th>2</th>\n",
       "      <td>Attempting artiness with black &amp; white and cle...</td>\n",
       "      <td>0</td>\n",
       "      <td>Negative</td>\n",
       "      <td>33</td>\n",
       "    </tr>\n",
       "    <tr>\n",
       "      <th>3</th>\n",
       "      <td>Very little music or anything to speak of.</td>\n",
       "      <td>0</td>\n",
       "      <td>Negative</td>\n",
       "      <td>10</td>\n",
       "    </tr>\n",
       "    <tr>\n",
       "      <th>4</th>\n",
       "      <td>The best scene in the movie was when Gerardo i...</td>\n",
       "      <td>1</td>\n",
       "      <td>Positive</td>\n",
       "      <td>23</td>\n",
       "    </tr>\n",
       "    <tr>\n",
       "      <th>...</th>\n",
       "      <td>...</td>\n",
       "      <td>...</td>\n",
       "      <td>...</td>\n",
       "      <td>...</td>\n",
       "    </tr>\n",
       "    <tr>\n",
       "      <th>743</th>\n",
       "      <td>I just got bored watching Jessice Lange take h...</td>\n",
       "      <td>0</td>\n",
       "      <td>Negative</td>\n",
       "      <td>13</td>\n",
       "    </tr>\n",
       "    <tr>\n",
       "      <th>744</th>\n",
       "      <td>Unfortunately, any virtue in this film's produ...</td>\n",
       "      <td>0</td>\n",
       "      <td>Negative</td>\n",
       "      <td>16</td>\n",
       "    </tr>\n",
       "    <tr>\n",
       "      <th>745</th>\n",
       "      <td>In a word, it is embarrassing.</td>\n",
       "      <td>0</td>\n",
       "      <td>Negative</td>\n",
       "      <td>8</td>\n",
       "    </tr>\n",
       "    <tr>\n",
       "      <th>746</th>\n",
       "      <td>Exceptionally bad!</td>\n",
       "      <td>0</td>\n",
       "      <td>Negative</td>\n",
       "      <td>4</td>\n",
       "    </tr>\n",
       "    <tr>\n",
       "      <th>747</th>\n",
       "      <td>All in all its an insult to one's intelligence...</td>\n",
       "      <td>0</td>\n",
       "      <td>Negative</td>\n",
       "      <td>17</td>\n",
       "    </tr>\n",
       "  </tbody>\n",
       "</table>\n",
       "<p>748 rows × 4 columns</p>\n",
       "</div>"
      ],
      "text/plain": [
       "                                                review  rating    labels  \\\n",
       "0    A very, very, very slow-moving, aimless movie ...       0  Negative   \n",
       "1    Not sure who was more lost - the flat characte...       0  Negative   \n",
       "2    Attempting artiness with black & white and cle...       0  Negative   \n",
       "3         Very little music or anything to speak of.         0  Negative   \n",
       "4    The best scene in the movie was when Gerardo i...       1  Positive   \n",
       "..                                                 ...     ...       ...   \n",
       "743  I just got bored watching Jessice Lange take h...       0  Negative   \n",
       "744  Unfortunately, any virtue in this film's produ...       0  Negative   \n",
       "745                   In a word, it is embarrassing.         0  Negative   \n",
       "746                               Exceptionally bad!         0  Negative   \n",
       "747  All in all its an insult to one's intelligence...       0  Negative   \n",
       "\n",
       "     length  \n",
       "0        15  \n",
       "1        21  \n",
       "2        33  \n",
       "3        10  \n",
       "4        23  \n",
       "..      ...  \n",
       "743      13  \n",
       "744      16  \n",
       "745       8  \n",
       "746       4  \n",
       "747      17  \n",
       "\n",
       "[748 rows x 4 columns]"
      ]
     },
     "execution_count": 46,
     "metadata": {},
     "output_type": "execute_result"
    }
   ],
   "source": [
    "dt['length'] = dt['review'].apply(lambda x: len(str(x).split(' ')))\n",
    "dt"
   ]
  },
  {
   "cell_type": "code",
   "execution_count": 47,
   "metadata": {},
   "outputs": [
    {
     "data": {
      "text/plain": [
       "array([  15,   21,   33,   10,   23,   22,    5,   17,   12,    8,   13,\n",
       "          6,   18,   25,   19,  868,   14,   16,    9,    7,   26,   35,\n",
       "         11,    4,   27,   28,    3,   20,   37,   24,   36,  201, 1393,\n",
       "         49,   30,  306,   31,   32,   44,   56,   45,   34,   38,   64,\n",
       "         58,   40,   47,   29,   73,   41,   39,   55,   53,   42,  800],\n",
       "      dtype=int64)"
      ]
     },
     "execution_count": 47,
     "metadata": {},
     "output_type": "execute_result"
    }
   ],
   "source": [
    "dt['length'].unique()"
   ]
  },
  {
   "cell_type": "code",
   "execution_count": 48,
   "metadata": {},
   "outputs": [
    {
     "data": {
      "text/plain": [
       "((448,),\n",
       " ['I am so tired of clichés that is just lazy writing, and here they come in thick and fast.  ',\n",
       "  'Nothing short of magnificent photography/cinematography in this film.  ',\n",
       "  'The acting was bad, the dialogs were extremely shallow and insincere.  ',\n",
       "  \"The soundtrack wasn't terrible, either.  \",\n",
       "  'Much more interesting, more action, more suspense, and less of the unneeded controversy.  ',\n",
       "  \"Feelings, thoughts...Gabriel's discomfort during the dance...all these intangibles leap to life and come within the viewer's grasp in Huston's portrayal.  \",\n",
       "  ' With great sound effects, and impressive special effects, I can\\'t recommend this movie enough.  \\t1\\nCall me a nut, but I think this is one of the best movies ever.  \\t1\\nGreat character actors Telly Savalas and Peter Boyle.  \\t1\\n1 hour 54 minutes of sheer tedium, melodrama and horrible acting, a mess of a script, and a sinking feeling of GOOD LORD, WHAT WERE THEY THINKING?  \\t0\\nLots of holes in the script.  \\t0\\nIt\\'s like a bad two hour TV movie.  \\t0\\nNow imagine that every single one of those decisions was made wrong.  \\t0\\nThe dialogue is atrocious.  \\t0\\nThe acting is beyond abysmal.  \\t0\\nEverything stinks.  \\t0\\nTrouble is, the writing and directing make it impossible to establish those things that make a movie watchable, like character, story, theme and so on.  \\t0\\nWorse, there\\'s an incredibly weak sub-plot thrown in that follows a little band of latter-day Mansonites as they go after a reporter who\\'s working on a story on the anniversary of the killings.  \\t0\\nIt\\'s dumb and pointless, and a complete waste of time.  \\t0\\nIn short, don\\'t bother with this movie.  \\t0\\nI won\\'t spoil it, but the ending in pretty amazing.  \\t1\\nThe best scene in the movie is at the end, but I won\\'t spoil it.  \\t1\\nIf there was ever an indication of a writer and a director\\'s ability to meld two highly volatile temperaments into a seamless union of creativity, then this is it!  \\t1\\nThe result is a powerhouse achievement, made more timely now perhaps because of our culture\\'s disturbing fascination with celebrity, and it\\'s distorted interpretations of fame.  \\t1\\nA film not easily forgotten.  \\t1\\nBut, Kevin Spacey is an excellent, verbal tsunami as Buddy Ackerman \\x96 and totally believable because he is a great actor.  \\t1\\nThe scripting of the subtle comedy is unmatched by any movie in recent years.  \\t1\\nThe characters are interesting, even if a bit predictable.  \\t1\\nHighly recommended for all ages, although the younger set will probably not appreciate some of the more subtle references, they will certainly appreciate one galley scene in particular!  \\t1\\nGreat movie!  \\t1\\nAlso the story and acting were weak.  \\t0\\nAt around 4 pm I bought it, at around 8pm I started to watch, at around 8.15pm I fast forwarded the remaining film to see if there was anything left watchable for a human being with a brain... but there wasn\\'t.  \\t0\\nEither way, it sucks.  \\t0\\nThe script is horrendously stupid.  \\t0\\nThe story starts too fast with absolutely no suspense or build-up in the slightest.  \\t0\\nEverything Captain Howdy says is either laughable or just plain stupid.  \\t0\\nWhat the hell kind of crap is that?!  \\t0\\nThen, there\\'s the plot holes.  \\t0\\nYou could drive a semi truck into these holes!  \\t0\\nLinda Cardellini is the only thing good in this film.  \\t1\\nShe\\'s poised and amazing.  \\t1\\nDee Snider just plain sucks.  \\t0\\nHe can\\'t act (one of the least scary villains I have ever seen), he can\\'t write (did he write this damn movie in his sleep?  \\t0\\nI was bored throughout the whole damn thing.  \\t0\\nThe acting sucks, the music sucks, the script sucks, the pacing sucks, the special FX suck, the directing sucks... basically, this movie sucks.  \\t0\\nThis film tries to be a serious and sophisticated thriller/horror flick and it fails miserably.  \\t0\\nThis is probably one of the least effective and utterly unoriginal films I have ever seen in my entire life.  \\t0\\nA piece of cinematic garbage captured on celluloid.  \\t0\\nAvoid at any and all costs.  \\t0\\nAt any rate this film stinks, its not funny, and Fulci should have stayed with giallo and supernatural zombie movies.  \\t0\\nAvoid this film at all costs.  \\t0\\nI don\\'t know what happened in Season Five, what a mess.  \\t0\\nThe only consistent thread holding the series together were the amazing performances of Leni Parker and Anita LaSelva as the two Taelons in quiet idealogical conflict.  \\t0\\nNow this is a movie I really dislike.  \\t0\\nIt\\'s one of the most boring Horror movies from the 90\\'s mainly because it starts slow and centers in a boring atmosphere.  \\t0\\nThe puppets look really cheesy , not in a good way like in the Puppet Master 80\\'s flicks.  \\t0\\nThe story is lame, not interesting and NEVER really explains the sinister origins of the puppets.  \\t0\\nThere aren\\'t death scenes like in previous movies and the f/x are terrible.  \\t0\\nI felt asleep the first time I watched it, so I can recommend it for insomniacs.  \\t0\\nThe fact is, this film is a wonderful, heartwarming tale about two people chasing their dreams.  \\t1\\nThe best part about Nurse Betty\" is it\\'s unpredictability.  ',\n",
       "  'I enjoyed it.  ',\n",
       "  'This movie is a solid example of a bad plot and a very, very bad idea all the way.  ',\n",
       "  'Non-linear narration thus many flashbacks and every part are articulated quite well.  '])"
      ]
     },
     "execution_count": 48,
     "metadata": {},
     "output_type": "execute_result"
    }
   ],
   "source": [
    "X = dt['review']\n",
    "y = dt['rating']\n",
    "X_train, X_test, y_train, y_test = train_test_split(X, y, test_size = .40, random_state = 60)\n",
    "X_train.shape, X_train.to_list()[:10]"
   ]
  },
  {
   "cell_type": "code",
   "execution_count": 49,
   "metadata": {},
   "outputs": [
    {
     "data": {
      "text/html": [
       "<div>\n",
       "<style scoped>\n",
       "    .dataframe tbody tr th:only-of-type {\n",
       "        vertical-align: middle;\n",
       "    }\n",
       "\n",
       "    .dataframe tbody tr th {\n",
       "        vertical-align: top;\n",
       "    }\n",
       "\n",
       "    .dataframe thead th {\n",
       "        text-align: right;\n",
       "    }\n",
       "</style>\n",
       "<table border=\"1\" class=\"dataframe\">\n",
       "  <thead>\n",
       "    <tr style=\"text-align: right;\">\n",
       "      <th></th>\n",
       "      <th>10</th>\n",
       "      <th>15pm</th>\n",
       "      <th>17</th>\n",
       "      <th>1947</th>\n",
       "      <th>1948</th>\n",
       "      <th>1949</th>\n",
       "      <th>1980</th>\n",
       "      <th>1986</th>\n",
       "      <th>1995</th>\n",
       "      <th>1998</th>\n",
       "      <th>...</th>\n",
       "      <th>you</th>\n",
       "      <th>young</th>\n",
       "      <th>younger</th>\n",
       "      <th>your</th>\n",
       "      <th>yourself</th>\n",
       "      <th>youtube</th>\n",
       "      <th>zillion</th>\n",
       "      <th>zombie</th>\n",
       "      <th>zombiez</th>\n",
       "      <th>__labels__</th>\n",
       "    </tr>\n",
       "  </thead>\n",
       "  <tbody>\n",
       "    <tr>\n",
       "      <th>0</th>\n",
       "      <td>0.0</td>\n",
       "      <td>0.0</td>\n",
       "      <td>0.0</td>\n",
       "      <td>0.0</td>\n",
       "      <td>0.0</td>\n",
       "      <td>0.0</td>\n",
       "      <td>0.0</td>\n",
       "      <td>0.0</td>\n",
       "      <td>0.0</td>\n",
       "      <td>0.0</td>\n",
       "      <td>...</td>\n",
       "      <td>0.0</td>\n",
       "      <td>0.0</td>\n",
       "      <td>0.0</td>\n",
       "      <td>0.0</td>\n",
       "      <td>0.0</td>\n",
       "      <td>0.0</td>\n",
       "      <td>0.0</td>\n",
       "      <td>0.0</td>\n",
       "      <td>0.0</td>\n",
       "      <td>0</td>\n",
       "    </tr>\n",
       "    <tr>\n",
       "      <th>1</th>\n",
       "      <td>0.0</td>\n",
       "      <td>0.0</td>\n",
       "      <td>0.0</td>\n",
       "      <td>0.0</td>\n",
       "      <td>0.0</td>\n",
       "      <td>0.0</td>\n",
       "      <td>0.0</td>\n",
       "      <td>0.0</td>\n",
       "      <td>0.0</td>\n",
       "      <td>0.0</td>\n",
       "      <td>...</td>\n",
       "      <td>0.0</td>\n",
       "      <td>0.0</td>\n",
       "      <td>0.0</td>\n",
       "      <td>0.0</td>\n",
       "      <td>0.0</td>\n",
       "      <td>0.0</td>\n",
       "      <td>0.0</td>\n",
       "      <td>0.0</td>\n",
       "      <td>0.0</td>\n",
       "      <td>1</td>\n",
       "    </tr>\n",
       "    <tr>\n",
       "      <th>2</th>\n",
       "      <td>0.0</td>\n",
       "      <td>0.0</td>\n",
       "      <td>0.0</td>\n",
       "      <td>0.0</td>\n",
       "      <td>0.0</td>\n",
       "      <td>0.0</td>\n",
       "      <td>0.0</td>\n",
       "      <td>0.0</td>\n",
       "      <td>0.0</td>\n",
       "      <td>0.0</td>\n",
       "      <td>...</td>\n",
       "      <td>0.0</td>\n",
       "      <td>0.0</td>\n",
       "      <td>0.0</td>\n",
       "      <td>0.0</td>\n",
       "      <td>0.0</td>\n",
       "      <td>0.0</td>\n",
       "      <td>0.0</td>\n",
       "      <td>0.0</td>\n",
       "      <td>0.0</td>\n",
       "      <td>0</td>\n",
       "    </tr>\n",
       "    <tr>\n",
       "      <th>3</th>\n",
       "      <td>0.0</td>\n",
       "      <td>0.0</td>\n",
       "      <td>0.0</td>\n",
       "      <td>0.0</td>\n",
       "      <td>0.0</td>\n",
       "      <td>0.0</td>\n",
       "      <td>0.0</td>\n",
       "      <td>0.0</td>\n",
       "      <td>0.0</td>\n",
       "      <td>0.0</td>\n",
       "      <td>...</td>\n",
       "      <td>0.0</td>\n",
       "      <td>0.0</td>\n",
       "      <td>0.0</td>\n",
       "      <td>0.0</td>\n",
       "      <td>0.0</td>\n",
       "      <td>0.0</td>\n",
       "      <td>0.0</td>\n",
       "      <td>0.0</td>\n",
       "      <td>0.0</td>\n",
       "      <td>1</td>\n",
       "    </tr>\n",
       "    <tr>\n",
       "      <th>4</th>\n",
       "      <td>0.0</td>\n",
       "      <td>0.0</td>\n",
       "      <td>0.0</td>\n",
       "      <td>0.0</td>\n",
       "      <td>0.0</td>\n",
       "      <td>0.0</td>\n",
       "      <td>0.0</td>\n",
       "      <td>0.0</td>\n",
       "      <td>0.0</td>\n",
       "      <td>0.0</td>\n",
       "      <td>...</td>\n",
       "      <td>0.0</td>\n",
       "      <td>0.0</td>\n",
       "      <td>0.0</td>\n",
       "      <td>0.0</td>\n",
       "      <td>0.0</td>\n",
       "      <td>0.0</td>\n",
       "      <td>0.0</td>\n",
       "      <td>0.0</td>\n",
       "      <td>0.0</td>\n",
       "      <td>1</td>\n",
       "    </tr>\n",
       "  </tbody>\n",
       "</table>\n",
       "<p>5 rows × 2106 columns</p>\n",
       "</div>"
      ],
      "text/plain": [
       "    10  15pm   17  1947  1948  1949  1980  1986  1995  1998  ...  you  young  \\\n",
       "0  0.0   0.0  0.0   0.0   0.0   0.0   0.0   0.0   0.0   0.0  ...  0.0    0.0   \n",
       "1  0.0   0.0  0.0   0.0   0.0   0.0   0.0   0.0   0.0   0.0  ...  0.0    0.0   \n",
       "2  0.0   0.0  0.0   0.0   0.0   0.0   0.0   0.0   0.0   0.0  ...  0.0    0.0   \n",
       "3  0.0   0.0  0.0   0.0   0.0   0.0   0.0   0.0   0.0   0.0  ...  0.0    0.0   \n",
       "4  0.0   0.0  0.0   0.0   0.0   0.0   0.0   0.0   0.0   0.0  ...  0.0    0.0   \n",
       "\n",
       "   younger  your  yourself  youtube  zillion  zombie  zombiez  __labels__  \n",
       "0      0.0   0.0       0.0      0.0      0.0     0.0      0.0           0  \n",
       "1      0.0   0.0       0.0      0.0      0.0     0.0      0.0           1  \n",
       "2      0.0   0.0       0.0      0.0      0.0     0.0      0.0           0  \n",
       "3      0.0   0.0       0.0      0.0      0.0     0.0      0.0           1  \n",
       "4      0.0   0.0       0.0      0.0      0.0     0.0      0.0           1  \n",
       "\n",
       "[5 rows x 2106 columns]"
      ]
     },
     "execution_count": 49,
     "metadata": {},
     "output_type": "execute_result"
    }
   ],
   "source": [
    "tfidf_vectorizer = TfidfVectorizer()\n",
    "tfidf = tfidf_vectorizer.fit_transform(X_train)\n",
    "\n",
    "tfidf_df = pd.DataFrame(data=tfidf.toarray().astype(float), columns=tfidf_vectorizer.get_feature_names())\n",
    "\n",
    "tfidf_df[\"__labels__\"] = y_train.values\n",
    "tfidf_df.head()"
   ]
  },
  {
   "cell_type": "code",
   "execution_count": 50,
   "metadata": {},
   "outputs": [
    {
     "data": {
      "text/plain": [
       "[('10', 1),\n",
       " ('15pm', 1),\n",
       " ('17', 1),\n",
       " ('1947', 1),\n",
       " ('1948', 1),\n",
       " ('1949', 1),\n",
       " ('1980', 1),\n",
       " ('1986', 1),\n",
       " ('1995', 1),\n",
       " ('1998', 1)]"
      ]
     },
     "execution_count": 50,
     "metadata": {},
     "output_type": "execute_result"
    }
   ],
   "source": [
    "from collections import Counter\n",
    "voc = Counter(tfidf_vectorizer.get_feature_names())\n",
    "voc.most_common(10)"
   ]
  },
  {
   "cell_type": "code",
   "execution_count": 51,
   "metadata": {},
   "outputs": [
    {
     "data": {
      "text/plain": [
       "115    0.363922\n",
       "9      0.238444\n",
       "381    0.227924\n",
       "248    0.196250\n",
       "111    0.189997\n",
       "         ...   \n",
       "295    0.000000\n",
       "294    0.000000\n",
       "293    0.000000\n",
       "292    0.000000\n",
       "1      0.000000\n",
       "Name: many, Length: 241, dtype: float64"
      ]
     },
     "execution_count": 51,
     "metadata": {},
     "output_type": "execute_result"
    }
   ],
   "source": [
    "word = 'many'\n",
    "xv = tfidf_df[tfidf_df['__labels__']== 1][word]\n",
    "xv.sort_values(ascending=False)"
   ]
  },
  {
   "cell_type": "code",
   "execution_count": 52,
   "metadata": {},
   "outputs": [
    {
     "data": {
      "image/png": "[encoded data removed]",
      "text/plain": [
       "<Figure size 432x288 with 1 Axes>"
      ]
     },
     "metadata": {
      "needs_background": "light"
     },
     "output_type": "display_data"
    }
   ],
   "source": [
    "from matplotlib import pyplot as plt\n",
    "\n",
    "plt.bar(xv.index, xv.values)\n",
    "plt.show()"
   ]
  },
  {
   "cell_type": "code",
   "execution_count": 53,
   "metadata": {},
   "outputs": [],
   "source": [
    "vectorization = Pipeline([\n",
    "    ('bow',CountVectorizer(stop_words = 'english')),\n",
    "    ('tfidf',TfidfTransformer()),\n",
    "    ('classifier',BernoulliNB())\n",
    "])"
   ]
  },
  {
   "cell_type": "code",
   "execution_count": 54,
   "metadata": {},
   "outputs": [],
   "source": [
    "model = vectorization.fit(X_train, y_train)\n",
    "pred = model.predict(X_test)"
   ]
  },
  {
   "cell_type": "code",
   "execution_count": 55,
   "metadata": {},
   "outputs": [
    {
     "name": "stdout",
     "output_type": "stream",
     "text": [
      "              precision    recall  f1-score   support\n",
      "\n",
      "           0       0.70      0.94      0.80       155\n",
      "           1       0.89      0.57      0.69       145\n",
      "\n",
      "    accuracy                           0.76       300\n",
      "   macro avg       0.79      0.75      0.75       300\n",
      "weighted avg       0.79      0.76      0.75       300\n",
      "\n"
     ]
    }
   ],
   "source": [
    "from sklearn.metrics import classification_report\n",
    "print(classification_report(y_test, pred))"
   ]
  },
  {
   "cell_type": "code",
   "execution_count": 56,
   "metadata": {},
   "outputs": [
    {
     "name": "stdout",
     "output_type": "stream",
     "text": [
      "[0.78666667 0.76       0.71333333 0.72483221 0.70469799]\n",
      "mean_accuracy = 0.7379, std_accuracy = 0.0308\n"
     ]
    }
   ],
   "source": [
    "accuracy = []\n",
    "\n",
    "stratifiedKf_pred = StratifiedKFold(n_splits = 5, shuffle = True, random_state = 100)\n",
    "stratifiedKf_pred.get_n_splits(X, y)\n",
    "\n",
    "for train_index, test_index in stratifiedKf_pred.split(X, y):\n",
    "    X_train1, X_test1 = X.iloc[train_index], X.iloc[test_index]\n",
    "    y_train1, y_test1 = y.iloc[train_index], y.iloc[test_index]\n",
    "    \n",
    "    vectorization.fit(X_train1, y_train1)\n",
    "    result = vectorization.score(X_test1, y_test1)\n",
    "    accuracy.append(result)\n",
    "    \n",
    "accuracy = np.array(accuracy)\n",
    "print(accuracy)\n",
    "print(f\"mean_accuracy = {accuracy.mean():.4f}, std_accuracy = {accuracy.std():.4f}\")"
   ]
  },
  {
   "cell_type": "code",
   "execution_count": null,
   "metadata": {},
   "outputs": [],
   "source": []
  }
 ],
 "metadata": {
  "kernelspec": {
   "display_name": "Python 3",
   "language": "python",
   "name": "python3"
  },
  "language_info": {
   "codemirror_mode": {
    "name": "ipython",
    "version": 3
   },
   "file_extension": ".py",
   "mimetype": "text/x-python",
   "name": "python",
   "nbconvert_exporter": "python",
   "pygments_lexer": "ipython3",
   "version": "3.7.6"
  }
 },
 "nbformat": 4,
 "nbformat_minor": 4
}
